{
  "nbformat": 4,
  "nbformat_minor": 0,
  "metadata": {
    "colab": {
      "name": "NetPresentValue.ipynb",
      "provenance": [],
      "authorship_tag": "ABX9TyOu0cCyWtGZ3uWcwXZgz4kO",
      "include_colab_link": true
    },
    "kernelspec": {
      "name": "python3",
      "display_name": "Python 3"
    },
    "language_info": {
      "name": "python"
    }
  },
  "cells": [
    {
      "cell_type": "markdown",
      "metadata": {
        "id": "view-in-github",
        "colab_type": "text"
      },
      "source": [
        "<a href=\"https://colab.research.google.com/github/Shalil-BV/algorithmic-trading-python/blob/master/NetPresentValue.ipynb\" target=\"_parent\"><img src=\"https://colab.research.google.com/assets/colab-badge.svg\" alt=\"Open In Colab\"/></a>"
      ]
    },
    {
      "cell_type": "code",
      "metadata": {
        "id": "E64F5yRc96Gm"
      },
      "source": [
        "#Investment in t=0 \n",
        "\n",
        "CF0 = -1000\n",
        "CF1 = 600\n",
        "CF2 = 700\n",
        "interestrate = 0.05"
      ],
      "execution_count": 1,
      "outputs": []
    },
    {
      "cell_type": "code",
      "metadata": {
        "colab": {
          "base_uri": "https://localhost:8080/"
        },
        "id": "k9DDC5lv-ED1",
        "outputId": "e7d16e0c-3772-473c-d517-b403b25003d6"
      },
      "source": [
        "NPV = CF0/(1+interestrate)**0 + CF1/(1+interestrate)**1 + CF2/(1+interestrate)**2\n",
        "NPV"
      ],
      "execution_count": 3,
      "outputs": [
        {
          "output_type": "execute_result",
          "data": {
            "text/plain": [
              "206.34920634920638"
            ]
          },
          "metadata": {},
          "execution_count": 3
        }
      ]
    },
    {
      "cell_type": "code",
      "metadata": {
        "colab": {
          "base_uri": "https://localhost:8080/"
        },
        "id": "_2FnzJkL-dLT",
        "outputId": "6b1aed15-a1a0-4bbd-b0ba-1055f2db94e3"
      },
      "source": [
        "Cashflows = [CF0,CF1,CF2]\n",
        "Cashflows"
      ],
      "execution_count": 4,
      "outputs": [
        {
          "output_type": "execute_result",
          "data": {
            "text/plain": [
              "[-1000, 600, 700]"
            ]
          },
          "metadata": {},
          "execution_count": 4
        }
      ]
    },
    {
      "cell_type": "code",
      "metadata": {
        "id": "-_UMNWuB-uCQ"
      },
      "source": [
        "NPV = 0 "
      ],
      "execution_count": 19,
      "outputs": []
    },
    {
      "cell_type": "code",
      "metadata": {
        "colab": {
          "base_uri": "https://localhost:8080/"
        },
        "id": "9bobaIpS-wEA",
        "outputId": "1c2e5d5c-354b-4b85-a138-2dce2d7b957e"
      },
      "source": [
        "for i in range(len(Cashflows)): \n",
        "  NPV = NPV + Cashflows[i]/(1+interestrate)**i \n",
        "NPV"
      ],
      "execution_count": 20,
      "outputs": [
        {
          "output_type": "execute_result",
          "data": {
            "text/plain": [
              "206.34920634920638"
            ]
          },
          "metadata": {},
          "execution_count": 20
        }
      ]
    },
    {
      "cell_type": "code",
      "metadata": {
        "id": "1907vxVc_Wa4"
      },
      "source": [
        "def NPV(interestrate,Cashflows):\n",
        "  NPV = 0 \n",
        "  for i in range(len(Cashflows)): \n",
        "    NPV = NPV + Cashflows[i]/(1+interestrate)**i \n",
        "  return NPV"
      ],
      "execution_count": 21,
      "outputs": []
    },
    {
      "cell_type": "code",
      "metadata": {
        "colab": {
          "base_uri": "https://localhost:8080/"
        },
        "id": "1UR3OD2u_kmA",
        "outputId": "9cd8a5d3-54b7-40f5-e42e-98594e833bea"
      },
      "source": [
        "NPV(0.05, Cashflows)"
      ],
      "execution_count": 22,
      "outputs": [
        {
          "output_type": "execute_result",
          "data": {
            "text/plain": [
              "206.34920634920638"
            ]
          },
          "metadata": {},
          "execution_count": 22
        }
      ]
    },
    {
      "cell_type": "code",
      "metadata": {
        "id": "sM-NQRbx_zP1"
      },
      "source": [
        "import numpy as np "
      ],
      "execution_count": 25,
      "outputs": []
    },
    {
      "cell_type": "code",
      "metadata": {
        "colab": {
          "base_uri": "https://localhost:8080/"
        },
        "id": "S6egFYau_1fr",
        "outputId": "5eaf2015-009b-4a20-898c-4612bf11192a"
      },
      "source": [
        "np.npv(interestrate,Cashflows)"
      ],
      "execution_count": 28,
      "outputs": [
        {
          "output_type": "stream",
          "name": "stderr",
          "text": [
            "/usr/local/lib/python3.7/dist-packages/ipykernel_launcher.py:1: DeprecationWarning: numpy.npv is deprecated and will be removed from NumPy 1.20. Use numpy_financial.npv instead (https://pypi.org/project/numpy-financial/).\n",
            "  \"\"\"Entry point for launching an IPython kernel.\n"
          ]
        },
        {
          "output_type": "execute_result",
          "data": {
            "text/plain": [
              "206.34920634920638"
            ]
          },
          "metadata": {},
          "execution_count": 28
        }
      ]
    }
  ]
}